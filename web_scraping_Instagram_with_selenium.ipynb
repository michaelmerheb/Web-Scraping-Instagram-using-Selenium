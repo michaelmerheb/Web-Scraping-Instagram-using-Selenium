{
 "cells": [
  {
   "attachments": {},
   "cell_type": "markdown",
   "id": "37503d29",
   "metadata": {},
   "source": [
    "#### Let us begin by importing the required libraries"
   ]
  },
  {
   "cell_type": "code",
   "execution_count": 1,
   "id": "958b8a31",
   "metadata": {},
   "outputs": [],
   "source": [
    "# Let us begin by importing the required libraries\n",
    "\n",
    "import requests\n",
    "import urllib\n",
    "\n",
    "# Importing the standard libraries\n",
    "import time\n",
    "import pandas as pd\n",
    "import numpy as np\n",
    "\n",
    "# Importing Selenium library and relevant classes\n",
    "import selenium\n",
    "from selenium import webdriver\n",
    "from selenium.webdriver.chrome.service import Service as ChromeService\n",
    "from webdriver_manager.chrome import ChromeDriverManager\n",
    "from selenium.webdriver.common.by import By\n",
    "from selenium.webdriver.support.ui import WebDriverWait\n",
    "from selenium.webdriver.support import expected_conditions as EC\n",
    "from selenium.webdriver.common.keys import Keys\n",
    "from bs4 import BeautifulSoup\n",
    "from selenium.webdriver.common.action_chains import ActionChains"
   ]
  },
  {
   "attachments": {},
   "cell_type": "markdown",
   "id": "455d6c29",
   "metadata": {},
   "source": [
    "#### Now we load the Instagram page"
   ]
  },
  {
   "cell_type": "code",
   "execution_count": 2,
   "id": "0579bef9",
   "metadata": {},
   "outputs": [],
   "source": [
    "# Let us now load the instagram page\n",
    "driver = webdriver.Chrome(service=ChromeService(ChromeDriverManager().install()))\n",
    "\n",
    "# Fetching the Instagram home page\n",
    "driver.get(\"https://www.instagram.com/\");\n",
    "time.sleep(10)"
   ]
  },
  {
   "attachments": {},
   "cell_type": "markdown",
   "id": "1d647459",
   "metadata": {},
   "source": [
    "### For a clearer view, let us maximize the window!\n"
   ]
  },
  {
   "cell_type": "code",
   "execution_count": 3,
   "id": "0227fc16",
   "metadata": {},
   "outputs": [],
   "source": [
    "# Maximizing the window\n",
    "driver.maximize_window()  \n",
    "driver.switch_to.window(driver.current_window_handle)\n",
    "driver.implicitly_wait(1)"
   ]
  },
  {
   "attachments": {},
   "cell_type": "markdown",
   "id": "fd11a7d2",
   "metadata": {},
   "source": [
    "### Next, we accept the necessary and optional cookies"
   ]
  },
  {
   "cell_type": "code",
   "execution_count": 4,
   "id": "735f1c10",
   "metadata": {},
   "outputs": [],
   "source": [
    "# In case the option is not prompted, we will put it in a try-except statement\n",
    "try:\n",
    "    WebDriverWait(driver, 15).until(EC.element_to_be_clickable((By.XPATH, '//button[contains(text(), \"Allow essential and optional cookies\")]'))).click()\n",
    "except:\n",
    "    pass"
   ]
  },
  {
   "attachments": {},
   "cell_type": "markdown",
   "id": "9cf4abe9",
   "metadata": {},
   "source": [
    "### Now let us input our username and password"
   ]
  },
  {
   "cell_type": "code",
   "execution_count": 5,
   "id": "c2fb8b15",
   "metadata": {},
   "outputs": [],
   "source": [
    "username = WebDriverWait(driver, 10).until(EC.element_to_be_clickable((By.CSS_SELECTOR, \"input[name='username']\")))\n",
    "password = WebDriverWait(driver, 10).until(EC.element_to_be_clickable((By.CSS_SELECTOR, \"input[name='password']\")))\n",
    "\n",
    "username.clear()\n",
    "username.send_keys(\"mcmf_cc2022\")\n",
    "password.clear()\n",
    "password.send_keys(\"CloudComputing\")"
   ]
  },
  {
   "attachments": {},
   "cell_type": "markdown",
   "id": "2258329a",
   "metadata": {},
   "source": [
    "### Clicking the log-in button"
   ]
  },
  {
   "cell_type": "code",
   "execution_count": 6,
   "id": "554dc3a7",
   "metadata": {},
   "outputs": [],
   "source": [
    "WebDriverWait(driver, 10).until(EC.element_to_be_clickable((By.CSS_SELECTOR, \"button[type='submit']\"))).click()\n",
    "time.sleep(20)"
   ]
  },
  {
   "attachments": {},
   "cell_type": "markdown",
   "id": "12510866",
   "metadata": {},
   "source": [
    "### Let's not save our user information for now"
   ]
  },
  {
   "cell_type": "code",
   "execution_count": 7,
   "id": "69398c34",
   "metadata": {},
   "outputs": [],
   "source": [
    "# In case the option is not prompted, we will put it in a try-except statement\n",
    "try:\n",
    "    WebDriverWait(driver, 15).until(EC.element_to_be_clickable((By.XPATH, '//div[@class=\"_ac8f\"]'))).click()\n",
    "except:\n",
    "    pass\n",
    "time.sleep(3)"
   ]
  },
  {
   "attachments": {},
   "cell_type": "markdown",
   "id": "ef437141",
   "metadata": {},
   "source": [
    "### We do not want to turn on notifications for now"
   ]
  },
  {
   "cell_type": "code",
   "execution_count": 8,
   "id": "0d5e4d49",
   "metadata": {},
   "outputs": [],
   "source": [
    "try:\n",
    "    WebDriverWait(driver, 15).until(EC.element_to_be_clickable((By.XPATH, '//button[contains(text(), \"Not Now\")]'))).click()\n",
    "except:\n",
    "    pass\n",
    "time.sleep(3)"
   ]
  },
  {
   "attachments": {},
   "cell_type": "markdown",
   "id": "ed52b152",
   "metadata": {},
   "source": [
    "### Let us begin searching for the plants we need"
   ]
  },
  {
   "cell_type": "code",
   "execution_count": 15,
   "id": "7d9c5e0c",
   "metadata": {},
   "outputs": [],
   "source": [
    "# Function for the scrolling down command\n",
    "def scroll_down():\n",
    "\n",
    "    # Get the page scroll height\n",
    "    last_height = driver.execute_script(\"return document.body.scrollHeight\")\n",
    "\n",
    "    # Scrolling down all the available pages\n",
    "    i = 0\n",
    "    while i < 22:\n",
    "\n",
    "        # Scrolling down to the bottom of the page\n",
    "        driver.execute_script(\"window.scrollTo(0, document.body.scrollHeight);\")\n",
    "\n",
    "        # Waiting for the page to load\n",
    "        time.sleep(3)\n",
    "\n",
    "        # Calculating the new scroll height and comparing it with last scroll height\n",
    "        new_height = driver.execute_script(\"return document.body.scrollHeight\")\n",
    "\n",
    "        if new_height == last_height:\n",
    "\n",
    "            break\n",
    "\n",
    "        last_height = new_height\n",
    "        i += 1"
   ]
  },
  {
   "cell_type": "code",
   "execution_count": 10,
   "id": "7171c0cd",
   "metadata": {},
   "outputs": [],
   "source": [
    "# Function for the scrolling up command\n",
    "def scroll_up_to_home():\n",
    "\n",
    "    driver.find_element(By.TAG_NAME, 'html').send_keys(Keys.HOME)"
   ]
  },
  {
   "cell_type": "code",
   "execution_count": 11,
   "id": "1176693c",
   "metadata": {},
   "outputs": [],
   "source": [
    "# Creating a list of names of the plants as hashtags\n",
    "plant_names = [\"#Monsteradeliciosa\", \"#PileaPeperomia\", \"#BegoniaMaculata\", \"#Calatheatriostar\", \"#AnthuriumClarinervium\", \"#PhilodendronPinkprincess\"]"
   ]
  },
  {
   "cell_type": "code",
   "execution_count": 12,
   "id": "81d6d655",
   "metadata": {},
   "outputs": [],
   "source": [
    "plant_names_modified = [\"Monstera_deliciosa_\", \"Pilea_Peperomia_\", \"Begonia_Maculata_\", \"Calathea_triostar_\", \"Anthurium_Clarinervium_\", \"Philodendron_Pink_princess_\"]"
   ]
  },
  {
   "attachments": {},
   "cell_type": "markdown",
   "id": "291d2075",
   "metadata": {},
   "source": [
    "### Putting all the code together in a for-loop"
   ]
  },
  {
   "cell_type": "code",
   "execution_count": 13,
   "id": "7f44000b",
   "metadata": {},
   "outputs": [
    {
     "name": "stdout",
     "output_type": "stream",
     "text": [
      "We obtained 48 images for #Monsteradeliciosa hashtag! However keep in mind that we will only save 50 of them in case more are found.\n",
      "We obtained 99 images for #PileaPeperomia hashtag! However keep in mind that we will only save 50 of them in case more are found.\n",
      "We obtained 141 images for #BegoniaMaculata hashtag! However keep in mind that we will only save 50 of them in case more are found.\n",
      "We obtained 180 images for #Calatheatriostar hashtag! However keep in mind that we will only save 50 of them in case more are found.\n",
      "We obtained 219 images for #AnthuriumClarinervium hashtag! However keep in mind that we will only save 50 of them in case more are found.\n",
      "We obtained 258 images for #PhilodendronPinkprincess hashtag! However keep in mind that we will only save 50 of them in case more are found.\n"
     ]
    }
   ],
   "source": [
    "image_urls = []\n",
    "\n",
    "for plant_hashtag_name in plant_names:\n",
    "    time.sleep(3)\n",
    "    driver.find_element(By.XPATH, '//div[@class=\"_aawa\"]').click()\n",
    "\n",
    "    # Searching for the respective plant name\n",
    "    searchbox = WebDriverWait(driver, 10).until(EC.element_to_be_clickable((By.XPATH, \"//input[@placeholder='Search']\")))\n",
    "    searchbox.clear()\n",
    "    searchbox.send_keys(plant_hashtag_name)\n",
    "\n",
    "    time.sleep(5)\n",
    "\n",
    "    searchbox.send_keys(Keys.ENTER)\n",
    "    time.sleep(1)\n",
    "\n",
    "    searchbox.send_keys(Keys.ENTER)\n",
    "\n",
    "    time.sleep(5)\n",
    "\n",
    "    # Let us scroll down to load the necessary number of images\n",
    "    scroll_down()\n",
    "\n",
    "    # Getting the URLs for the images\n",
    "    for result in driver.find_elements(By.XPATH, \"//div[@class='_aabd _aa8k _aanf']\"):\n",
    "        image_urls.append(result.find_element(By.TAG_NAME, \"img\").get_attribute(\"src\"))\n",
    "\n",
    "    # Scrolling back up to the home page\n",
    "    scroll_up_to_home()\n",
    "    \n",
    "    print(\"We obtained \" + str(len(image_urls)) + \" images for \" + plant_hashtag_name + \" hashtag! However keep in mind that we will only save 50 of them in case more are found.\")\n",
    "\n",
    "    # Saving the images locally\n",
    "    if plant_hashtag_name == \"#Monsteradeliciosa\":\n",
    "        for i, image_url in enumerate(image_urls[:50]):\n",
    "            image = requests.get(image_url)\n",
    "            with open(\"Monstera_deliciosa_\" + str(i+1) + '.png', 'wb') as handler:\n",
    "                handler.write(image.content)\n",
    "    \n",
    "    elif plant_hashtag_name == \"#PileaPeperomia\":\n",
    "        for i, image_url in enumerate(image_urls[:50]):\n",
    "            image = requests.get(image_url)\n",
    "            with open(\"Pilea_Peperomia_\" + str(i+1) + '.png', 'wb') as handler:\n",
    "                handler.write(image.content)\n",
    "    \n",
    "    elif plant_hashtag_name == \"#BegoniaMaculata\":\n",
    "        for i, image_url in enumerate(image_urls[:50]):\n",
    "            image = requests.get(image_url)\n",
    "            with open(\"Begonia_Maculata_\" + str(i+1) + '.png', 'wb') as handler:\n",
    "                handler.write(image.content)\n",
    "    \n",
    "    elif plant_hashtag_name == \"#Calatheatriostar\":\n",
    "        for i, image_url in enumerate(image_urls[:50]):\n",
    "            image = requests.get(image_url)\n",
    "            with open(\"Calathea_triostar_\" + str(i+1) + '.png', 'wb') as handler:\n",
    "                handler.write(image.content)\n",
    "\n",
    "    elif plant_hashtag_name == \"#AnthuriumClarinervium\":\n",
    "        for i, image_url in enumerate(image_urls[:50]):\n",
    "            image = requests.get(image_url)\n",
    "            with open(\"Anthurium_Clarinervium_\" + str(i+1) + '.png', 'wb') as handler:\n",
    "                handler.write(image.content)\n",
    "\n",
    "    else:\n",
    "        for i, image_url in enumerate(image_urls[:50]):\n",
    "            image = requests.get(image_url)\n",
    "            with open(\"Philodendron_Pink_princess_\" + str(i+1) + '.png', 'wb') as handler:\n",
    "                handler.write(image.content)"
   ]
  },
  {
   "cell_type": "code",
   "execution_count": null,
   "id": "776250ef",
   "metadata": {},
   "outputs": [],
   "source": []
  }
 ],
 "metadata": {
  "kernelspec": {
   "display_name": "Python 3.9.12 ('base')",
   "language": "python",
   "name": "python3"
  },
  "language_info": {
   "codemirror_mode": {
    "name": "ipython",
    "version": 3
   },
   "file_extension": ".py",
   "mimetype": "text/x-python",
   "name": "python",
   "nbconvert_exporter": "python",
   "pygments_lexer": "ipython3",
   "version": "3.9.12 (main, Apr  5 2022, 01:53:17) \n[Clang 12.0.0 ]"
  },
  "vscode": {
   "interpreter": {
    "hash": "7a803822fdc46f2b4caa60ccc6a735d53bb2e490fe3b101f460d013705c05e5a"
   }
  }
 },
 "nbformat": 4,
 "nbformat_minor": 5
}
